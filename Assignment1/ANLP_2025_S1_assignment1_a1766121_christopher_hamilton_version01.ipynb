{
 "cells": [
  {
   "cell_type": "markdown",
   "id": "6730fecf",
   "metadata": {},
   "source": [
    "## ANLP Assignment 1: Sentiment Analysis\n",
    "### Christopher Hamilton,  a1766121"
   ]
  },
  {
   "cell_type": "code",
   "execution_count": 12,
   "id": "a632e608",
   "metadata": {},
   "outputs": [],
   "source": [
    "\n",
    "import json\n",
    "\n",
    "import pandas as pd"
   ]
  },
  {
   "cell_type": "markdown",
   "id": "3c1fad6c-9f9a-431c-86fc-c40547146582",
   "metadata": {},
   "source": [
    "### 1. Reading dataset and initial pre-processing"
   ]
  },
  {
   "cell_type": "code",
   "execution_count": 15,
   "id": "4836feae",
   "metadata": {},
   "outputs": [],
   "source": [
    "def read_json_to_df(file_name):\n",
    "    data = []\n",
    "    with open(file_name) as data_file:\n",
    "        for line in data_file:\n",
    "            data.append(json.loads(line))    \n",
    "\n",
    "    return pd.json_normalize(data)\n",
    "\n",
    "test_df = read_json_to_df(\"hotel_reviews_test.json\")\n",
    "train_df = read_json_to_df(\"hotel_reviews_train.json\")"
   ]
  },
  {
   "cell_type": "code",
   "execution_count": 17,
   "id": "e967e07b",
   "metadata": {},
   "outputs": [
    {
     "name": "stdout",
     "output_type": "stream",
     "text": [
      "<class 'pandas.core.frame.DataFrame'>\n",
      "RangeIndex: 6000 entries, 0 to 5999\n",
      "Data columns (total 24 columns):\n",
      " #   Column                                          Non-Null Count  Dtype  \n",
      "---  ------                                          --------------  -----  \n",
      " 0   title                                           6000 non-null   object \n",
      " 1   text                                            6000 non-null   object \n",
      " 2   date_stayed                                     5756 non-null   object \n",
      " 3   offering_id                                     6000 non-null   int64  \n",
      " 4   num_helpful_votes                               6000 non-null   int64  \n",
      " 5   date                                            6000 non-null   object \n",
      " 6   id                                              6000 non-null   int64  \n",
      " 7   via_mobile                                      6000 non-null   bool   \n",
      " 8   ratings.service                                 5351 non-null   float64\n",
      " 9   ratings.cleanliness                             5358 non-null   float64\n",
      " 10  ratings.overall                                 6000 non-null   float64\n",
      " 11  ratings.value                                   5348 non-null   float64\n",
      " 12  ratings.location                                4683 non-null   float64\n",
      " 13  ratings.sleep_quality                           3497 non-null   float64\n",
      " 14  ratings.rooms                                   4931 non-null   float64\n",
      " 15  author.username                                 6000 non-null   object \n",
      " 16  author.num_cities                               4393 non-null   float64\n",
      " 17  author.num_helpful_votes                        4708 non-null   float64\n",
      " 18  author.num_reviews                              5747 non-null   float64\n",
      " 19  author.num_type_reviews                         3668 non-null   float64\n",
      " 20  author.id                                       6000 non-null   object \n",
      " 21  author.location                                 6000 non-null   object \n",
      " 22  ratings.check_in_front_desk                     731 non-null    float64\n",
      " 23  ratings.business_service_(e_g_internet_access)  496 non-null    float64\n",
      "dtypes: bool(1), float64(13), int64(3), object(7)\n",
      "memory usage: 1.1+ MB\n",
      "None\n",
      "<class 'pandas.core.frame.DataFrame'>\n",
      "RangeIndex: 24000 entries, 0 to 23999\n",
      "Data columns (total 24 columns):\n",
      " #   Column                                          Non-Null Count  Dtype  \n",
      "---  ------                                          --------------  -----  \n",
      " 0   title                                           24000 non-null  object \n",
      " 1   text                                            24000 non-null  object \n",
      " 2   date_stayed                                     23050 non-null  object \n",
      " 3   offering_id                                     24000 non-null  int64  \n",
      " 4   num_helpful_votes                               24000 non-null  int64  \n",
      " 5   date                                            24000 non-null  object \n",
      " 6   id                                              24000 non-null  int64  \n",
      " 7   via_mobile                                      24000 non-null  bool   \n",
      " 8   ratings.service                                 21550 non-null  float64\n",
      " 9   ratings.cleanliness                             21545 non-null  float64\n",
      " 10  ratings.overall                                 24000 non-null  float64\n",
      " 11  ratings.value                                   21547 non-null  float64\n",
      " 12  ratings.location                                18983 non-null  float64\n",
      " 13  ratings.sleep_quality                           14185 non-null  float64\n",
      " 14  ratings.rooms                                   20000 non-null  float64\n",
      " 15  author.username                                 24000 non-null  object \n",
      " 16  author.num_reviews                              22919 non-null  float64\n",
      " 17  author.id                                       24000 non-null  object \n",
      " 18  author.location                                 24000 non-null  object \n",
      " 19  author.num_cities                               17538 non-null  float64\n",
      " 20  author.num_helpful_votes                        18864 non-null  float64\n",
      " 21  author.num_type_reviews                         14629 non-null  float64\n",
      " 22  ratings.check_in_front_desk                     2909 non-null   float64\n",
      " 23  ratings.business_service_(e_g_internet_access)  1959 non-null   float64\n",
      "dtypes: bool(1), float64(13), int64(3), object(7)\n",
      "memory usage: 4.2+ MB\n",
      "None\n"
     ]
    }
   ],
   "source": [
    "print(test_df.info())\n",
    "print(train_df.info())"
   ]
  },
  {
   "cell_type": "markdown",
   "id": "31d75afc",
   "metadata": {},
   "source": [
    "### 2. Exploratory Data Analysis (EDA)"
   ]
  },
  {
   "cell_type": "code",
   "execution_count": null,
   "id": "2d286790",
   "metadata": {},
   "outputs": [],
   "source": []
  },
  {
   "cell_type": "markdown",
   "id": "333cefa8",
   "metadata": {},
   "source": [
    "### 3. Selection and training Machine Learning models"
   ]
  },
  {
   "cell_type": "code",
   "execution_count": null,
   "id": "c292820d",
   "metadata": {},
   "outputs": [],
   "source": []
  },
  {
   "cell_type": "markdown",
   "id": "067cebcf",
   "metadata": {},
   "source": [
    "### 4. Experiment with VADER sentiment lexicon"
   ]
  },
  {
   "cell_type": "code",
   "execution_count": null,
   "id": "23c816a9",
   "metadata": {},
   "outputs": [],
   "source": []
  },
  {
   "cell_type": "markdown",
   "id": "333ba5cb",
   "metadata": {},
   "source": [
    "### 5. Final testing on test set and discussion of results"
   ]
  },
  {
   "cell_type": "code",
   "execution_count": null,
   "id": "58a6ebe4",
   "metadata": {},
   "outputs": [],
   "source": []
  },
  {
   "cell_type": "markdown",
   "id": "ba7ea3a2",
   "metadata": {},
   "source": [
    "### 6. Propose a method to predict aspects \n",
    "\n",
    "***(COMP SCI 7417 and COMP SCI 7717 only)***"
   ]
  },
  {
   "cell_type": "code",
   "execution_count": null,
   "id": "99cf2087",
   "metadata": {},
   "outputs": [],
   "source": []
  },
  {
   "cell_type": "markdown",
   "id": "23d3d17f",
   "metadata": {},
   "source": [
    "### 7. Reflection on the ***Product*** development."
   ]
  },
  {
   "cell_type": "code",
   "execution_count": null,
   "id": "3d4dae7f",
   "metadata": {},
   "outputs": [],
   "source": []
  },
  {
   "cell_type": "markdown",
   "id": "af38d9fc",
   "metadata": {},
   "source": [
    "### 9. References"
   ]
  },
  {
   "cell_type": "markdown",
   "id": "dcb3a062",
   "metadata": {},
   "source": [
    "https://www.analyticsvidhya.com/blog/2022/07/step-by-step-exploratory-data-analysis-eda-using-python/"
   ]
  },
  {
   "cell_type": "markdown",
   "id": "c088010b-92f5-499b-a24e-4e3f874f4950",
   "metadata": {},
   "source": [
    "### Appendix"
   ]
  },
  {
   "cell_type": "code",
   "execution_count": null,
   "id": "4a7289b0-b12b-4be4-bc07-0b41a55266c2",
   "metadata": {},
   "outputs": [],
   "source": []
  }
 ],
 "metadata": {
  "kernelspec": {
   "display_name": ".venv",
   "language": "python",
   "name": "python3"
  },
  "language_info": {
   "codemirror_mode": {
    "name": "ipython",
    "version": 3
   },
   "file_extension": ".py",
   "mimetype": "text/x-python",
   "name": "python",
   "nbconvert_exporter": "python",
   "pygments_lexer": "ipython3",
   "version": "3.11.0rc1"
  }
 },
 "nbformat": 4,
 "nbformat_minor": 5
}

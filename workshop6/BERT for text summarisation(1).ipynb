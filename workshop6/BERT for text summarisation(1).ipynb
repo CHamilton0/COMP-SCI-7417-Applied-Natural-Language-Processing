{
 "cells": [
  {
   "cell_type": "markdown",
   "id": "85fde3f1-5690-4b37-9de6-9d786300e14f",
   "metadata": {},
   "source": [
    "## BERT for text summarisation\n",
    "\n",
    "**This is a very simple code demostrating how easy is to use BERT for text summarisation*\n",
    "\n",
    "Please execute the code (you may need to install BERT summarisation version), and complete the exercise at the end of the Notebook.\n",
    "\n",
    "The Summarizer() function imported from the summarizer in Python is an extractive text summarization tool. It uses the BERT model to analyze and extract key sentences from a larger text. This function aims to retain the most important information, providing a condensed version of the original content. It's commonly used to summarize lengthy documents efficiently."
   ]
  },
  {
   "cell_type": "code",
   "execution_count": null,
   "id": "f1171775-97b2-4a08-a45f-7ae53d0c9fce",
   "metadata": {},
   "outputs": [],
   "source": [
    "# based on https://www.exxactcorp.com/blog/deep-learning/extractive-summarization-with-llm-using-bert\n",
    "# !pip install bert-extractive-summarizer\n",
    "from summarizer import Summarizer"
   ]
  },
  {
   "cell_type": "markdown",
   "id": "17280f97-1ceb-4e83-b141-02bcf2d472d5",
   "metadata": {},
   "source": [
    "The following text will be summarised:\n",
    "\n",
    "\"The history of Graphics Processing Units (GPUs) dates back to the early 1980s when companies like IBM and Texas Instruments developed specialized graphics accelerators for rendering images and improving overall graphical performance. However, it was not until the late 1990s and early 2000s that GPUs gained prominence with the advent of 3D gaming and multimedia applications. NVIDIA's GeForce 256, released in 1999, is often considered the first GPU, as it integrated both 2D and 3D acceleration on a single chip. ATI (later acquired by AMD) also played a significant role in the development of GPUs during this period.\n",
    "\n",
    "The parallel architecture of GPUs, with thousands of cores, allows them to handle multiple computations simultaneously, making them well-suited for tasks that require massive parallelism. Today, GPUs have evolved far beyond their original graphics-centric purpose, now widely used for parallel processing tasks in various fields, such as scientific simulations, artificial intelligence, and machine learning. Industries like finance, healthcare, and automotive engineering leverage GPUs for complex data analysis, medical imaging, and autonomous vehicle development, showcasing their versatility beyond traditional graphical applications.\n",
    "\n",
    "With advancements in technology, modern GPUs continue to push the boundaries of computational power, enabling breakthroughs in diverse fields through parallel computing. GPUs also remain integral to the gaming industry, providing immersive and realistic graphics for video games where high-performance GPUs enhance visual experiences and support demanding game graphics. As technology progresses, GPUs are expected to play an even more critical role in shaping the future of computing.\""
   ]
  },
  {
   "cell_type": "code",
   "execution_count": null,
   "id": "ab9d782e-04b5-41b4-82f2-54692624b607",
   "metadata": {
    "scrolled": true
   },
   "outputs": [],
   "source": [
    "model = Summarizer()\n",
    "\n",
    "text = \"The history of Graphics Processing Units (GPUs) dates back to the early 1980s when companies like IBM and Texas Instruments developed specialized graphics accelerators for rendering images and improving overall graphical performance. However, it was not until the late 1990s and early 2000s that GPUs gained prominence with the advent of 3D gaming and multimedia applications. NVIDIA's GeForce 256, released in 1999, is often considered the first GPU, as it integrated both 2D and 3D acceleration on a single chip. ATI (later acquired by AMD) also played a significant role in the development of GPUs during this period. The parallel architecture of GPUs, with thousands of cores, allows them to handle multiple computations simultaneously, making them well-suited for tasks that require massive parallelism. Today, GPUs have evolved far beyond their original graphics-centric purpose, now widely used for parallel processing tasks in various fields, such as scientific simulations, artificial intelligence, and machine learning.  Industries like finance, healthcare, and automotive engineering leverage GPUs for complex data analysis, medical imaging, and autonomous vehicle development, showcasing their versatility beyond traditional graphical applications. With advancements in technology, modern GPUs continue to push the boundaries of computational power, enabling breakthroughs in diverse fields through parallel computing. GPUs also remain integral to the gaming industry, providing immersive and realistic graphics for video games where high-performance GPUs enhance visual experiences and support demanding game graphics. As technology progresses, GPUs are expected to play an even more critical role in shaping the future of computing.\"\n",
    "\n",
    "# Specifying the number of sentences in the summary\n",
    "summary = model(text, num_sentences=4) \n",
    "print(summary)\n",
    "\n"
   ]
  },
  {
   "cell_type": "markdown",
   "id": "7efbf3fe-2f56-49c8-9f55-6c62c3d628c9",
   "metadata": {},
   "source": [
    "The model extracted 4 most important sentences from the text."
   ]
  },
  {
   "cell_type": "markdown",
   "id": "d3c0808f-3f5f-485c-808d-9eb0d779c354",
   "metadata": {},
   "source": [
    "### Exercise: Compare BERT summarisation with current ChatGPT summarisation\n",
    "\n",
    "Enter the same text into ChatGPT and ask to extract 4 most important sentences.\n",
    "\n",
    "Compare with sentences extracted by BERT. Are they the same or different? Which version of summarisation is better in your opinion?"
   ]
  }
 ],
 "metadata": {
  "kernelspec": {
   "display_name": "Python 3 (ipykernel)",
   "language": "python",
   "name": "python3"
  },
  "language_info": {
   "codemirror_mode": {
    "name": "ipython",
    "version": 3
   },
   "file_extension": ".py",
   "mimetype": "text/x-python",
   "name": "python",
   "nbconvert_exporter": "python",
   "pygments_lexer": "ipython3",
   "version": "3.11.5"
  }
 },
 "nbformat": 4,
 "nbformat_minor": 5
}

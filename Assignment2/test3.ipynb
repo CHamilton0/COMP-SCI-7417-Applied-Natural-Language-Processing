{
 "cells": [
  {
   "cell_type": "code",
   "execution_count": 7,
   "id": "1f6cb1bd",
   "metadata": {},
   "outputs": [],
   "source": [
    "import json\n",
    "import os\n",
    "\n",
    "import pandas as pd\n",
    "import numpy as np\n",
    "\n",
    "def read_json_to_df(file_name):\n",
    "    data = []\n",
    "    with open(file_name) as data_file:\n",
    "        for line in data_file:\n",
    "            # Load each line of the JSON file as a dictionary\n",
    "            data.append(json.loads(line))\n",
    "\n",
    "    # Form a Pandas DataFrame from the dictionaries\n",
    "    return pd.json_normalize(data)\n",
    "\n",
    "# Load the training and test data\n",
    "raw_train_df = read_json_to_df(\"hotel_reviews_train.json\")\n",
    "raw_test_df = read_json_to_df(\"hotel_reviews_test.json\")\n",
    "\n",
    "ratings_columns = [col for col in raw_train_df.columns if col.startswith(\"ratings.\")]\n",
    "\n",
    "# Select the title, text and overall rating columns to make a new dataframe\n",
    "train_df = raw_train_df[[\"title\", \"text\"] + ratings_columns]\n",
    "test_df = raw_test_df[[\"title\", \"text\"] + ratings_columns]\n",
    "\n",
    "# Save the English reviews to a CSV file to save time filtering when running again (NumFOCUS, Inc. 2024)\n",
    "if os.path.exists(\"english_hotel_reviews_train.csv\"):\n",
    "    train_df = pd.read_csv(\"english_hotel_reviews_train.csv\")\n",
    "\n",
    "if os.path.exists(\"english_hotel_reviews_test.csv\"):\n",
    "    test_df = pd.read_csv(\"english_hotel_reviews_test.csv\")\n",
    "\n",
    "train_df = train_df.fillna(0)\n",
    "test_df = test_df.fillna(0)\n",
    "\n",
    "inputs = train_df[ratings_columns]\n",
    "outputs = train_df['text']\n",
    "\n",
    "inputs_test = test_df[ratings_columns]\n",
    "outputs_test = test_df['text']"
   ]
  },
  {
   "cell_type": "code",
   "execution_count": 2,
   "id": "c9fa85e5",
   "metadata": {},
   "outputs": [],
   "source": [
    "def format_input(rating) -> str:\n",
    "    input = \"Generate a hotel review based on the following ratings:\\n\"\n",
    "    service = rating.iloc[0]\n",
    "    cleanliness = rating.iloc[1]\n",
    "    overall = rating.iloc[2]\n",
    "    value = rating.iloc[3]\n",
    "    location = rating.iloc[4]\n",
    "    sleep_quality = rating.iloc[5]\n",
    "    rooms = rating.iloc[6]\n",
    "    check_in_front_desk = rating.iloc[7]\n",
    "    business_service = rating.iloc[8]\n",
    "\n",
    "    if service != 0:\n",
    "      input += f\"- service: {service}\\n\"\n",
    "    if cleanliness != 0:\n",
    "      input += f\"- cleanliness: {cleanliness}\\n\"\n",
    "    if overall != 0:\n",
    "      input += f\"- overall: {overall}\\n\"\n",
    "    if value != 0:\n",
    "      input += f\"- value: {value}\\n\"\n",
    "    if location != 0:\n",
    "      input += f\"- location: {location}\\n\"\n",
    "    if sleep_quality != 0:\n",
    "      input += f\"- sleep quality: {sleep_quality}\\n\"\n",
    "    if rooms != 0:\n",
    "      input += f\"- rooms: {rooms}\\n\"\n",
    "    if check_in_front_desk != 0:\n",
    "      input += f\"- check in: {check_in_front_desk}\\n\"\n",
    "    if business_service != 0:\n",
    "      input += f\"- business service: {business_service}\\n\"\n",
    "\n",
    "    input += \"Review: \"\n",
    "\n",
    "    return input"
   ]
  },
  {
   "cell_type": "code",
   "execution_count": 15,
   "id": "ffaef6f5",
   "metadata": {},
   "outputs": [
    {
     "data": {
      "application/vnd.jupyter.widget-view+json": {
       "model_id": "1ad113e5b4f34f9cbce4b20008475b97",
       "version_major": 2,
       "version_minor": 0
      },
      "text/plain": [
       "Map:   0%|          | 0/100 [00:00<?, ? examples/s]"
      ]
     },
     "metadata": {},
     "output_type": "display_data"
    },
    {
     "data": {
      "text/html": [
       "\n",
       "    <div>\n",
       "      \n",
       "      <progress value='250' max='250' style='width:300px; height:20px; vertical-align: middle;'></progress>\n",
       "      [250/250 01:04, Epoch 10/10]\n",
       "    </div>\n",
       "    <table border=\"1\" class=\"dataframe\">\n",
       "  <thead>\n",
       " <tr style=\"text-align: left;\">\n",
       "      <th>Step</th>\n",
       "      <th>Training Loss</th>\n",
       "    </tr>\n",
       "  </thead>\n",
       "  <tbody>\n",
       "  </tbody>\n",
       "</table><p>"
      ],
      "text/plain": [
       "<IPython.core.display.HTML object>"
      ]
     },
     "metadata": {},
     "output_type": "display_data"
    },
    {
     "data": {
      "text/plain": [
       "TrainOutput(global_step=250, training_loss=2.229955322265625, metrics={'train_runtime': 64.5607, 'train_samples_per_second': 15.489, 'train_steps_per_second': 3.872, 'total_flos': 33835450368000.0, 'train_loss': 2.229955322265625, 'epoch': 10.0})"
      ]
     },
     "execution_count": 15,
     "metadata": {},
     "output_type": "execute_result"
    }
   ],
   "source": [
    "from transformers import T5Tokenizer, T5ForConditionalGeneration, Trainer, TrainingArguments\n",
    "\n",
    "from datasets import Dataset\n",
    "\n",
    "dataset = Dataset.from_dict({\"ratings\": inputs.apply(format_input, axis=1).to_list(), \"review_text\": outputs.to_list()})\n",
    "\n",
    "dataset = dataset.select(range(100))\n",
    "\n",
    "# Preprocessing function for dataset\n",
    "def preprocess(examples):\n",
    "    model_inputs = tokenizer(examples[\"ratings\"], truncation=True, padding=\"max_length\", max_length=128)\n",
    "    labels = tokenizer(examples[\"review_text\"], truncation=True, padding=\"max_length\", max_length=512)\n",
    "    model_inputs[\"labels\"] = labels[\"input_ids\"]\n",
    "    return model_inputs\n",
    "\n",
    "tokenizer = T5Tokenizer.from_pretrained('t5-small')\n",
    "model = T5ForConditionalGeneration.from_pretrained('t5-small')\n",
    "\n",
    "tokenized = dataset.map(preprocess, batched=True)\n",
    "training_args = TrainingArguments(output_dir='./results', per_device_train_batch_size=4, num_train_epochs=10)\n",
    "\n",
    "trainer = Trainer(model=model, args=training_args, train_dataset=tokenized)\n",
    "trainer.train()"
   ]
  },
  {
   "cell_type": "code",
   "execution_count": 17,
   "id": "a2540082",
   "metadata": {},
   "outputs": [
    {
     "name": "stdout",
     "output_type": "stream",
     "text": [
      "INPUT RATINGS: Generate a hotel review based on the following ratings:\n",
      "- service: 5.0\n",
      "- cleanliness: 5.0\n",
      "- overall: 5.0\n",
      "- value: 5.0\n",
      "- location: 5.0\n",
      "- sleep quality: 5.0\n",
      "- rooms: 5.0\n",
      "Review: \n",
      "GENERATED REVIEW: Hotel is a great place to stay in the hotel. The staff were very friendly and helpful and helpful. The room was clean and comfortable. The room was very clean and comfortable. The room was very clean and clean. The staff were very helpful and the room was clean and comfortable, clean and the room was very comfortable, the room was very clean, the room was very clean and the location is very close to the hotel. The location is perfect. The hotel is a short walk to the hotel was excellent. The hotel is very close to the city center. The hotel is a short walk from the u.k. - - The staff were very helpful and friendly. The location is very close to the city center and the a bit of a bit of a bit of the hotel. The location was a little bit - the room was very comfortable. The room was very clean and the room was very comfortable. The room was very comfortable. The room was a bit of a bit of a bit small and the room was very comfortable. The room was very comfortable. The room was excellent. The room was very clean and the staff was very helpful. The room was very comfortable and the room was very comfortable and the room was a bit small and the hotel was very close to the hotel. The hotel was very nice. The room was clean, the room was clean and clean. The hotel is a bit compared to the hotel. The hotel is a good location close to the hotel. The hotel is very close to the airport. The staff were very friendly and helpful. The room was very comfortable. The room was very comfortable. The room was clean, the room was a bit a bit small. The room was very comfortable and comfortable. The price of the room. The room was a bit too small and the room was very clean and comfortable. The room was a great choice. The room was a bit too small. The room was very comfortable. The room was very nice. The room was very comfortable. The room was very comfortable and comfortable. The room was very comfortable. The room was very good. The room was very comfortable\n",
      "REFERENCE REVIEW: My husband and I just celebrated our 25th wedding anniversary. We normally stay at very high class hotels but that night we wanted to try something new without spending a fortune. (St. Regis, Ritz, etc are our norms) We wanted the Tribeca area so we pulled up to the hotel (unassuming front) The Bell guys were so nice and took care of our bags right away. While checking in we had at least 3 people come up to us and say Happy Anniversary. Being Starwood platinum, we had it all set up to hopefully get an upgrade. We gave 12,000 points which was the minimum. They told us we could not have a suite and we were a little disappointed but it would be fine because he was giving us a great view. Then the manager came in and changed everything and gave us the nicest suite ever! They gave us the top floor. They brought champagne and chocolate strawberries quickly to our room. It was the best ever!! The room was simple but beautiful. The view was amazing! The bed was soooo comfortable and I slept like a baby. I can't say enough about the bathroom. It was sooo nice. I would give the bathroom a 5 star. I'm not kidding! For a sheraton, it was very impressive. I don't know why I haven't been to this hotel before. Now that I know how nice everyone is there and how extremely comfortable they made us, I will go back soon. We go into the city a lot and I will for sure go back!! Thank you so much Sheraton! You wowed us!!\n",
      "================================================================================\n",
      "INPUT RATINGS: Generate a hotel review based on the following ratings:\n",
      "- service: 5.0\n",
      "- cleanliness: 5.0\n",
      "- overall: 5.0\n",
      "- value: 5.0\n",
      "- sleep quality: 5.0\n",
      "Review: \n",
      "GENERATED REVIEW: I'm not a good hotel is very close to the hotel and I was in the middle of the night, 5.0 - - appointment: 5.0 - service: - Service, a great location, a good location, the hotel is located in the middle of the night, a hotel with a good location, but not bad, the staff were very friendly and helpful, the staff were friendly and helpful, but i was a great value for money. The staff were very friendly and helpful, the room was a bit of a bit of a bit of a reseel - a bit of a a requi is a bit of a lot of a hotel with a lot of a bit of a bit of a bit of the c. The hotel is a great choice. I stayed at the hotel. We had a good time. I would highly recommend a visit to the king and the deluxe rooms were pleasantly - the room was a bit of a bit a bit of a bit of a bit of a schoon, and the staff were very friendly and helpful. I was a bit a bit a bit more than a bit of a bit more than a bit a bit of a bit of a bit a bit more than a's a bit of a - a bit of a bit a bit of a bit of a bit of a bit a bit of a bit more than a bit of the'so-Simulture and a bit of a\n",
      "REFERENCE REVIEW: I could not leave a bad comment on any part of our stay! Everyone was so nice! Our room was kept in great shape for us too! This place was so clean!\n",
      "================================================================================\n",
      "INPUT RATINGS: Generate a hotel review based on the following ratings:\n",
      "- service: 5.0\n",
      "- cleanliness: 5.0\n",
      "- overall: 4.0\n",
      "- value: 5.0\n",
      "- location: 4.0\n",
      "- sleep quality: 5.0\n",
      "- rooms: 5.0\n",
      "Review: \n",
      "GENERATED REVIEW: Hotel reviews are based on the hotel reviews: - service, service, cleanliness, cleanliness, cleanliness, cleanliness, cleanliness, cleanliness, cleanliness, cleanliness, cleanliness, and the location. The location is very good, the hotel is very close to the airport. The hotel is very convenient to the airport. The hotel is very convenient. The location is very close to the city centre. The hotel is very convenient to the bus, bus,\n",
      "REFERENCE REVIEW: I spent one night at this hotel prior to a cruise. Friendly staff is very noticeable wherever you go in hotel. Building is historic site in old bank building. Lobby is particularly beautiful. Breakfast was excellent as was comfort of very large king-bed room. No pool and no balconies, but everything else is excellent. Yes, there is a large number of homeless people walking around the neighborhood, but they didnt bother me. Large shopping center and excellent restaurants in Gaslight quarter outside your door. It's about 10 blocks downhill or a $8.00 cabride to the port.\n",
      "================================================================================\n",
      "INPUT RATINGS: Generate a hotel review based on the following ratings:\n",
      "- service: 5.0\n",
      "- cleanliness: 5.0\n",
      "- overall: 5.0\n",
      "- value: 5.0\n",
      "- sleep quality: 5.0\n",
      "Review: \n",
      "GENERATED REVIEW: A review of a hotel is based on a review of the hotel. The location is very good, the staff was very helpful and helpful. The room was clean and the room was very comfortable. The room was clean and the room was clean and comfortable. The room was clean and the room was very nice. The room was very nice. The room was very clean and the room was clean and the room was clean and the location was excellent value for money. Error: - Service was excellent, but not a good value for money.com a hotel in the morning. The staff were very helpful and helpful, and the hotel was very nice, the staff was friendly and friendly and helpful. The hotel was very friendly and the staff were very pleasant. The hotel was very clean and the staff were very helpful and the room was very clean and the room was clean and the room was very clean and the room was clean and comfortable. The room was very comfortable. The room was a bit too small. The hotel is a bit more than a bit a bit more than a bit clean. I would recommend this hotel. It was quiet and the room was very clean and the room was very comfortable. The room was very clean. The room was very nice. The room was very nice. The room was a bit bit noisy. The room was very comfortable and the room was very clean and clean. The hotel was very clean and the room was very comfortable. The room was very close to the hotel. The hotel is very nice. The location was a big deal. The hotel was very clean and comfortable. The location was very close to the hotel. The room was clean and clean. The hotel was very nice. The room was very clean. The hotel was very nice and the staff were very friendly and helpful. The room was very nice. The room was very nice and the location was a bit a bit too small, the room was a bit too big. The room was clean and clean. The room was very clean and comfortable. The room was very nice and the room was very close. The room was very comfortable and comfortable. The room was very comfortable. The room was very quiet. The room was clean and the room was a great value for money. The room was\n",
      "REFERENCE REVIEW: For the past year and a half, my daughter has been fighting cancer. We have had to travel to both Dallas and Houston for treatment, and the Crowne Plaza has always been there to offer a clean, inexpensive, convienent, and hospitable place for us to stay. Our last stay was at the River Oaks Crowne Plaza in Houston, Texas, and as always, the hotel was there when we needed them. Everything from the help at the front desk to help finding a place to eat was taken care of. Mandy, the concierge, was extremely knowledgable concerning local restaurants, shuttles, and even a taxi with comfortable seats and a non smoking atmosphere to take my wife and daughter to the airport only 3 days out of major surgery. We will always seek out a Crowne Plaza to stay at when available, and will always recommend them to friends and family when needing a place to stay. The Crowne Plaza is one of the unsung heros in our fight to rid our daughter of cancer.\n",
      "================================================================================\n",
      "INPUT RATINGS: Generate a hotel review based on the following ratings:\n",
      "- service: 5.0\n",
      "- cleanliness: 5.0\n",
      "- overall: 5.0\n",
      "- value: 5.0\n",
      "- location: 4.0\n",
      "- rooms: 5.0\n",
      "- check in: 5.0\n",
      "- business service: 5.0\n",
      "Review: \n",
      "GENERATED REVIEW: on our experience of the past two nights at the hotel. The hotel is very clean and well-equipped with a very good breakfast. The staff is very helpful and helpful. The hotel is very centrally located and the staff are very helpful and helpful. The hotel is very close to the airport. The location is perfect. The location is very close to the hotel. The location is perfect. The staff is very friendly and helpful. The hotel is very close to the airport. The location is very close to the airport. The hotel is a good & aston villa is a very nice hotel. The hotel is a bit of a good value for money. The staff were very helpful and the staff were very helpful and helpful. The staff was excellent. The staff was very friendly and helpful. The hotel is very comfortable and the room is very close to the hotel. The staff was very helpful and helpful staff. The room was excellent. The hotel is very comfortable and the room was very clean and comfortable. The room was a bit noisy and the hotel is a bit of a bit of the city.\n",
      "REFERENCE REVIEW: Great Value for a King, Queen, and Princesses. We stayed at the Pacific Terrace with our two daughters (3.5 and 8 months old) for five nights in early March. The hotel was beautiful, clean, and comfortable. It looked even better in person than on the hotel website. Everyone was friendly. We really enjoyed our patio and even the view was great from our \"partial-oceanview.\" The room was roomy. I wish the beds weren't so high off the ground since I have two young children, but the rooms were beautiful. There was a big flat screen T.V. The sink and mirror were separate from the tub and toilet which made it easier for us to all get ready. There was always a fresh basket of linens outside the door the next morning in case we needed an extra towel. The included breakfast was very good with fresh fruit, cereal, pastries, juice, coffee, water, and yogurt. The afternoon wine reception was very relaxing. We sipped our wine by the pool. The pool area was beautiful and comfortable. Our 3.5 year old daughter loved the fresh baked cookies in the afternoon and adored the turn down service because she got chocolate on her bed at night! I enjoyed the free internet access in the lobby. We walked to dinner many nights. The hotel did a fantastic job of referring us to different dining spots. We really liked being able to push a stroller all along the beach on the sidewalk above. The area is difficult to pinpoint exactly. It is a 50s beach bungalow type location. There are alot of college kids that live in the area. As with any busy/large town, there were occassional homeless people along the Pacific Beach boardwalk. That being said, we were never uncomfortable. Right across from the hotel are condos that are starting at $750,000!!! The hotel was really convenient to La Jolla and to Seaworld. We loved that we stayed right on the beach and could hear the ocean. We paid $15 day to park in their garage under the hotel. They even had music playing in the garage that was relaxing. I found the convenience of the parking well worth the $15. This was such a great value. We would definitely go back in a heart beat.\n",
      "================================================================================\n"
     ]
    }
   ],
   "source": [
    "def generate_review(ratings_str):\n",
    "    device = model.device\n",
    "    inputs = tokenizer(ratings_str, return_tensors=\"pt\").to(device)\n",
    "    output = model.generate(**inputs, max_length=512)\n",
    "    return tokenizer.decode(output[0], skip_special_tokens=True)\n",
    "\n",
    "\n",
    "test_dataset = Dataset.from_dict({\"ratings\": inputs_test.apply(format_input, axis=1).to_list(), \"review_text\": outputs_test.to_list()})\n",
    "\n",
    "test_dataset = test_dataset.select(range(100))  # Select first 100 rows\n",
    "\n",
    "\n",
    "# Example\n",
    "for example in test_dataset.select(range(5)):\n",
    "    print(\"INPUT RATINGS:\", example[\"ratings\"])\n",
    "    print(\"GENERATED REVIEW:\", generate_review(example[\"ratings\"]))\n",
    "    print(\"REFERENCE REVIEW:\", example[\"review_text\"])\n",
    "    print(\"=\"*80)"
   ]
  }
 ],
 "metadata": {
  "kernelspec": {
   "display_name": ".venv",
   "language": "python",
   "name": "python3"
  },
  "language_info": {
   "codemirror_mode": {
    "name": "ipython",
    "version": 3
   },
   "file_extension": ".py",
   "mimetype": "text/x-python",
   "name": "python",
   "nbconvert_exporter": "python",
   "pygments_lexer": "ipython3",
   "version": "3.12.3"
  }
 },
 "nbformat": 4,
 "nbformat_minor": 5
}

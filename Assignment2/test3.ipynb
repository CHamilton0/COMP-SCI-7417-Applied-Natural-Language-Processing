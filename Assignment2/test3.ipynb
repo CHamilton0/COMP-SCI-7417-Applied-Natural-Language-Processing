{
 "cells": [
  {
   "cell_type": "code",
   "execution_count": 7,
   "id": "1f6cb1bd",
   "metadata": {},
   "outputs": [],
   "source": [
    "import json\n",
    "import os\n",
    "\n",
    "import pandas as pd\n",
    "import numpy as np\n",
    "\n",
    "def read_json_to_df(file_name):\n",
    "    data = []\n",
    "    with open(file_name) as data_file:\n",
    "        for line in data_file:\n",
    "            # Load each line of the JSON file as a dictionary\n",
    "            data.append(json.loads(line))\n",
    "\n",
    "    # Form a Pandas DataFrame from the dictionaries\n",
    "    return pd.json_normalize(data)\n",
    "\n",
    "# Load the training and test data\n",
    "raw_train_df = read_json_to_df(\"hotel_reviews_train.json\")\n",
    "raw_test_df = read_json_to_df(\"hotel_reviews_test.json\")\n",
    "\n",
    "ratings_columns = [col for col in raw_train_df.columns if col.startswith(\"ratings.\")]\n",
    "\n",
    "# Select the title, text and overall rating columns to make a new dataframe\n",
    "train_df = raw_train_df[[\"title\", \"text\"] + ratings_columns]\n",
    "test_df = raw_test_df[[\"title\", \"text\"] + ratings_columns]\n",
    "\n",
    "# Save the English reviews to a CSV file to save time filtering when running again (NumFOCUS, Inc. 2024)\n",
    "if os.path.exists(\"english_hotel_reviews_train.csv\"):\n",
    "    train_df = pd.read_csv(\"english_hotel_reviews_train.csv\")\n",
    "\n",
    "if os.path.exists(\"english_hotel_reviews_test.csv\"):\n",
    "    test_df = pd.read_csv(\"english_hotel_reviews_test.csv\")\n",
    "\n",
    "train_df = train_df.fillna(0)\n",
    "test_df = test_df.fillna(0)\n",
    "\n",
    "inputs = train_df[ratings_columns]\n",
    "outputs = train_df['text']\n",
    "\n",
    "inputs_test = test_df[ratings_columns]\n",
    "outputs_test = test_df['text']"
   ]
  },
  {
   "cell_type": "code",
   "execution_count": 2,
   "id": "c9fa85e5",
   "metadata": {},
   "outputs": [],
   "source": [
    "def format_input(rating) -> str:\n",
    "    input = \"Generate a hotel review based on the following ratings:\\n\"\n",
    "    service = rating.iloc[0]\n",
    "    cleanliness = rating.iloc[1]\n",
    "    overall = rating.iloc[2]\n",
    "    value = rating.iloc[3]\n",
    "    location = rating.iloc[4]\n",
    "    sleep_quality = rating.iloc[5]\n",
    "    rooms = rating.iloc[6]\n",
    "    check_in_front_desk = rating.iloc[7]\n",
    "    business_service = rating.iloc[8]\n",
    "\n",
    "    if service != 0:\n",
    "      input += f\"- service: {service}\\n\"\n",
    "    if cleanliness != 0:\n",
    "      input += f\"- cleanliness: {cleanliness}\\n\"\n",
    "    if overall != 0:\n",
    "      input += f\"- overall: {overall}\\n\"\n",
    "    if value != 0:\n",
    "      input += f\"- value: {value}\\n\"\n",
    "    if location != 0:\n",
    "      input += f\"- location: {location}\\n\"\n",
    "    if sleep_quality != 0:\n",
    "      input += f\"- sleep quality: {sleep_quality}\\n\"\n",
    "    if rooms != 0:\n",
    "      input += f\"- rooms: {rooms}\\n\"\n",
    "    if check_in_front_desk != 0:\n",
    "      input += f\"- check in: {check_in_front_desk}\\n\"\n",
    "    if business_service != 0:\n",
    "      input += f\"- business service: {business_service}\\n\"\n",
    "\n",
    "    input += \"Review: \"\n",
    "\n",
    "    return input"
   ]
  },
  {
   "cell_type": "code",
   "execution_count": 19,
   "id": "ffaef6f5",
   "metadata": {},
   "outputs": [
    {
     "data": {
      "application/vnd.jupyter.widget-view+json": {
       "model_id": "66b39c21631044919c984c0f3162ca67",
       "version_major": 2,
       "version_minor": 0
      },
      "text/plain": [
       "Map:   0%|          | 0/1000 [00:00<?, ? examples/s]"
      ]
     },
     "metadata": {},
     "output_type": "display_data"
    },
    {
     "data": {
      "text/html": [
       "\n",
       "    <div>\n",
       "      \n",
       "      <progress value='2500' max='2500' style='width:300px; height:20px; vertical-align: middle;'></progress>\n",
       "      [2500/2500 10:40, Epoch 10/10]\n",
       "    </div>\n",
       "    <table border=\"1\" class=\"dataframe\">\n",
       "  <thead>\n",
       " <tr style=\"text-align: left;\">\n",
       "      <th>Step</th>\n",
       "      <th>Training Loss</th>\n",
       "    </tr>\n",
       "  </thead>\n",
       "  <tbody>\n",
       "    <tr>\n",
       "      <td>500</td>\n",
       "      <td>1.845100</td>\n",
       "    </tr>\n",
       "    <tr>\n",
       "      <td>1000</td>\n",
       "      <td>1.498900</td>\n",
       "    </tr>\n",
       "    <tr>\n",
       "      <td>1500</td>\n",
       "      <td>1.477900</td>\n",
       "    </tr>\n",
       "    <tr>\n",
       "      <td>2000</td>\n",
       "      <td>1.465200</td>\n",
       "    </tr>\n",
       "    <tr>\n",
       "      <td>2500</td>\n",
       "      <td>1.459800</td>\n",
       "    </tr>\n",
       "  </tbody>\n",
       "</table><p>"
      ],
      "text/plain": [
       "<IPython.core.display.HTML object>"
      ]
     },
     "metadata": {},
     "output_type": "display_data"
    },
    {
     "data": {
      "text/plain": [
       "TrainOutput(global_step=2500, training_loss=1.54935205078125, metrics={'train_runtime': 640.6375, 'train_samples_per_second': 15.609, 'train_steps_per_second': 3.902, 'total_flos': 338354503680000.0, 'train_loss': 1.54935205078125, 'epoch': 10.0})"
      ]
     },
     "execution_count": 19,
     "metadata": {},
     "output_type": "execute_result"
    }
   ],
   "source": [
    "from transformers import T5Tokenizer, T5ForConditionalGeneration, Trainer, TrainingArguments\n",
    "\n",
    "from datasets import Dataset\n",
    "\n",
    "dataset = Dataset.from_dict({\"ratings\": inputs.apply(format_input, axis=1).to_list(), \"review_text\": outputs.to_list()})\n",
    "\n",
    "dataset = dataset.select(range(1000))\n",
    "\n",
    "# Preprocessing function for dataset\n",
    "def preprocess(examples):\n",
    "    model_inputs = tokenizer(examples[\"ratings\"], truncation=True, padding=\"max_length\", max_length=128)\n",
    "    labels = tokenizer(examples[\"review_text\"], truncation=True, padding=\"max_length\", max_length=512)\n",
    "    model_inputs[\"labels\"] = labels[\"input_ids\"]\n",
    "    return model_inputs\n",
    "\n",
    "tokenizer = T5Tokenizer.from_pretrained('t5-small')\n",
    "model = T5ForConditionalGeneration.from_pretrained('t5-small')\n",
    "\n",
    "tokenized = dataset.map(preprocess, batched=True)\n",
    "training_args = TrainingArguments(output_dir='./results', per_device_train_batch_size=4, num_train_epochs=10)\n",
    "\n",
    "trainer = Trainer(model=model, args=training_args, train_dataset=tokenized)\n",
    "trainer.train()"
   ]
  },
  {
   "cell_type": "code",
   "execution_count": null,
   "id": "a2540082",
   "metadata": {},
   "outputs": [
    {
     "name": "stdout",
     "output_type": "stream",
     "text": [
      "Input: Generate a hotel review based on the following ratings:\n",
      "- service: 5.0\n",
      "- cleanliness: 5.0\n",
      "- overall: 5.0\n",
      "- value: 5.0\n",
      "- location: 5.0\n",
      "- sleep quality: 5.0\n",
      "- rooms: 5.0\n",
      "Review: \n",
      "Generated review: I stayed at the Mercure Hotel in the City of New York City in the summer of 2007. The hotel is very clean and the staff is very friendly and helpful. The hotel is very clean and the rooms are very comfortable. The hotel is very close to the shopping center and the airport. The hotel is very convenient to shopping and restaurants. The hotel is very close to the city and the shops.\n",
      "Actual review: My husband and I just celebrated our 25th wedding anniversary. We normally stay at very high class hotels but that night we wanted to try something new without spending a fortune. (St. Regis, Ritz, etc are our norms) We wanted the Tribeca area so we pulled up to the hotel (unassuming front) The Bell guys were so nice and took care of our bags right away. While checking in we had at least 3 people come up to us and say Happy Anniversary. Being Starwood platinum, we had it all set up to hopefully get an upgrade. We gave 12,000 points which was the minimum. They told us we could not have a suite and we were a little disappointed but it would be fine because he was giving us a great view. Then the manager came in and changed everything and gave us the nicest suite ever! They gave us the top floor. They brought champagne and chocolate strawberries quickly to our room. It was the best ever!! The room was simple but beautiful. The view was amazing! The bed was soooo comfortable and I slept like a baby. I can't say enough about the bathroom. It was sooo nice. I would give the bathroom a 5 star. I'm not kidding! For a sheraton, it was very impressive. I don't know why I haven't been to this hotel before. Now that I know how nice everyone is there and how extremely comfortable they made us, I will go back soon. We go into the city a lot and I will for sure go back!! Thank you so much Sheraton! You wowed us!!\n",
      "ROUGE Scores for Abstractive Summary:  [{'rouge-1': {'r': 0.08045977011494253, 'p': 0.4117647058823529, 'f': 0.1346153818805474}, 'rouge-2': {'r': 0.007662835249042145, 'p': 0.0392156862745098, 'f': 0.012820510085676124}, 'rouge-l': {'r': 0.07471264367816093, 'p': 0.38235294117647056, 'f': 0.12499999726516278}}]\n",
      "\n",
      "\n",
      "Input: Generate a hotel review based on the following ratings:\n",
      "- service: 5.0\n",
      "- cleanliness: 5.0\n",
      "- overall: 5.0\n",
      "- value: 5.0\n",
      "- sleep quality: 5.0\n",
      "Review: \n",
      "Generated review: I stayed at the hotel for a week and it was a great value for money. The staff were friendly and the staff were very friendly and helpful. The hotel is very clean and the room was very comfortable. The room was very clean and the bathroom was clean and the room was very clean. The room was very clean and the room was very comfortable. The room was very small and the bathroom was very small and the bathroom was very small. The room was very clean and the shower was very comfortable. The bathroom was clean and the shower was very clean. The bathroom was a bit dated. I would definitely stay here again. I stayed at the hotel for a couple of nights. The room was clean and the room was clean. The room was clean and the bathroom was very clean and the bathroom was very comfortable. The staff was very friendly and friendly. The room was very clean. The room was nice and the room was very comfortable. The bed was very clean. The room was very comfortable. The room was very clean and clean. The room was very clean. The room was very comfortable. The room was very comfortable. The room was very small and the room was very clean. The room was very clean and the bathroom was clean and well decorated.\n",
      "Actual review: I could not leave a bad comment on any part of our stay! Everyone was so nice! Our room was kept in great shape for us too! This place was so clean!\n",
      "ROUGE Scores for Abstractive Summary:  [{'rouge-1': {'r': 0.2413793103448276, 'p': 0.17073170731707318, 'f': 0.19999999514693892}, 'rouge-2': {'r': 0.03333333333333333, 'p': 0.014285714285714285, 'f': 0.01999999580000088}, 'rouge-l': {'r': 0.2413793103448276, 'p': 0.17073170731707318, 'f': 0.19999999514693892}}]\n",
      "\n",
      "\n",
      "Input: Generate a hotel review based on the following ratings:\n",
      "- service: 5.0\n",
      "- cleanliness: 5.0\n",
      "- overall: 4.0\n",
      "- value: 5.0\n",
      "- location: 4.0\n",
      "- sleep quality: 5.0\n",
      "- rooms: 5.0\n",
      "Review: \n",
      "Generated review: The hotel is located in the heart of the city. The hotel is a short walk from the downtown area. The staff is very friendly and helpful. The room was clean and clean. The staff was very helpful and the room was clean and clean. The hotel is very clean and the staff were very helpful and helpful.\n",
      "Actual review: I spent one night at this hotel prior to a cruise. Friendly staff is very noticeable wherever you go in hotel. Building is historic site in old bank building. Lobby is particularly beautiful. Breakfast was excellent as was comfort of very large king-bed room. No pool and no balconies, but everything else is excellent. Yes, there is a large number of homeless people walking around the neighborhood, but they didnt bother me. Large shopping center and excellent restaurants in Gaslight quarter outside your door. It's about 10 blocks downhill or a $8.00 cabride to the port.\n",
      "ROUGE Scores for Abstractive Summary:  [{'rouge-1': {'r': 0.14102564102564102, 'p': 0.4583333333333333, 'f': 0.21568627091118803}, 'rouge-2': {'r': 0.03125, 'p': 0.07317073170731707, 'f': 0.04379561624380668}, 'rouge-l': {'r': 0.14102564102564102, 'p': 0.4583333333333333, 'f': 0.21568627091118803}}]\n",
      "\n",
      "\n",
      "Input: Generate a hotel review based on the following ratings:\n",
      "- service: 5.0\n",
      "- cleanliness: 5.0\n",
      "- overall: 5.0\n",
      "- value: 5.0\n",
      "- sleep quality: 5.0\n",
      "Review: \n",
      "Generated review: The hotel is a great place to stay. The staff is very friendly and helpful. The hotel is very clean. The hotel is very close to the city center, and the hotel is very close to the city center. The room is very comfortable and the staff is friendly and the staff is very helpful. The hotel is very clean and the hotel is very comfortable. The hotel is very well located. The room was very clean and the room was very comfortable. The room was very comfortable. The room was very comfortable and the shower was clean. The room was very clean and comfortable. The room was very comfortable. The room was very nice. The room was very clean and comfortable. The hotel is a great location. The hotel is located in the middle of the city. The hotel is a great location. The hotel is very clean. The location is perfect. The hotel is very good. The hotel is very close to the hotel and the staff were very helpful. The staff was very friendly and helpful.\n",
      "Actual review: For the past year and a half, my daughter has been fighting cancer. We have had to travel to both Dallas and Houston for treatment, and the Crowne Plaza has always been there to offer a clean, inexpensive, convienent, and hospitable place for us to stay. Our last stay was at the River Oaks Crowne Plaza in Houston, Texas, and as always, the hotel was there when we needed them. Everything from the help at the front desk to help finding a place to eat was taken care of. Mandy, the concierge, was extremely knowledgable concerning local restaurants, shuttles, and even a taxi with comfortable seats and a non smoking atmosphere to take my wife and daughter to the airport only 3 days out of major surgery. We will always seek out a Crowne Plaza to stay at when available, and will always recommend them to friends and family when needing a place to stay. The Crowne Plaza is one of the unsung heros in our fight to rid our daughter of cancer.\n",
      "ROUGE Scores for Abstractive Summary:  [{'rouge-1': {'r': 0.12871287128712872, 'p': 0.3939393939393939, 'f': 0.19402984703386061}, 'rouge-2': {'r': 0.043209876543209874, 'p': 0.1044776119402985, 'f': 0.06113536703953042}, 'rouge-l': {'r': 0.12871287128712872, 'p': 0.3939393939393939, 'f': 0.19402984703386061}}]\n",
      "\n",
      "\n",
      "Input: Generate a hotel review based on the following ratings:\n",
      "- service: 5.0\n",
      "- cleanliness: 5.0\n",
      "- overall: 5.0\n",
      "- value: 5.0\n",
      "- location: 4.0\n",
      "- rooms: 5.0\n",
      "- check in: 5.0\n",
      "- business service: 5.0\n",
      "Review: \n",
      "Generated review: I stayed at the Hilton for two nights in the morning and stayed at the Hotel. The staff was very friendly and helpful. The hotel is very convenient to the city center and the hotel. The location is great for the city. The staff was very helpful and helpful. The hotel is very clean and the staff very friendly. The hotel is very comfortable. The hotel is very close to the city center and the city center.\n",
      "Actual review: Great Value for a King, Queen, and Princesses. We stayed at the Pacific Terrace with our two daughters (3.5 and 8 months old) for five nights in early March. The hotel was beautiful, clean, and comfortable. It looked even better in person than on the hotel website. Everyone was friendly. We really enjoyed our patio and even the view was great from our \"partial-oceanview.\" The room was roomy. I wish the beds weren't so high off the ground since I have two young children, but the rooms were beautiful. There was a big flat screen T.V. The sink and mirror were separate from the tub and toilet which made it easier for us to all get ready. There was always a fresh basket of linens outside the door the next morning in case we needed an extra towel. The included breakfast was very good with fresh fruit, cereal, pastries, juice, coffee, water, and yogurt. The afternoon wine reception was very relaxing. We sipped our wine by the pool. The pool area was beautiful and comfortable. Our 3.5 year old daughter loved the fresh baked cookies in the afternoon and adored the turn down service because she got chocolate on her bed at night! I enjoyed the free internet access in the lobby. We walked to dinner many nights. The hotel did a fantastic job of referring us to different dining spots. We really liked being able to push a stroller all along the beach on the sidewalk above. The area is difficult to pinpoint exactly. It is a 50s beach bungalow type location. There are alot of college kids that live in the area. As with any busy/large town, there were occassional homeless people along the Pacific Beach boardwalk. That being said, we were never uncomfortable. Right across from the hotel are condos that are starting at $750,000!!! The hotel was really convenient to La Jolla and to Seaworld. We loved that we stayed right on the beach and could hear the ocean. We paid $15 day to park in their garage under the hotel. They even had music playing in the garage that was relaxing. I found the convenience of the parking well worth the $15. This was such a great value. We would definitely go back in a heart beat.\n",
      "ROUGE Scores for Abstractive Summary:  [{'rouge-1': {'r': 0.09051724137931035, 'p': 0.7241379310344828, 'f': 0.16091953825457644}, 'rouge-2': {'r': 0.02185792349726776, 'p': 0.16, 'f': 0.03846153634661624}, 'rouge-l': {'r': 0.09051724137931035, 'p': 0.7241379310344828, 'f': 0.16091953825457644}}]\n",
      "\n",
      "\n"
     ]
    }
   ],
   "source": [
    "def generate_review(ratings_str):\n",
    "    device = model.device\n",
    "    inputs = tokenizer(ratings_str, return_tensors=\"pt\").to(device)\n",
    "    output = model.generate(**inputs, max_length=512)\n",
    "    return tokenizer.decode(output[0], skip_special_tokens=True)\n",
    "\n",
    "\n",
    "test_dataset = Dataset.from_dict({\"ratings\": inputs_test.apply(format_input, axis=1).to_list(), \"review_text\": outputs_test.to_list()})\n",
    "\n",
    "test_dataset = test_dataset.select(range(100))  # Select first 100 rows\n",
    "\n",
    "from rouge import Rouge\n",
    "rouge = Rouge()\n",
    "\n",
    "# Example\n",
    "for example in test_dataset:\n",
    "    generated_review = generate_review(example[\"ratings\"])\n",
    "\n",
    "    print(\"Input:\", example[\"ratings\"])\n",
    "    print(\"Generated review:\", generated_review)\n",
    "    print(\"Actual review:\", example[\"review_text\"])\n",
    "    # Evaluate the summaries using the ROUGE metric\n",
    "    scores_abstractive = rouge.get_scores(generated_review, example[\"review_text\"])\n",
    "\n",
    "    # Print the summaries and ROUGE scores\n",
    "    print(\"ROUGE Scores for Abstractive Summary: \", scores_abstractive)\n",
    "    print('\\n')"
   ]
  },
  {
   "cell_type": "code",
   "execution_count": 25,
   "id": "d7aa8723",
   "metadata": {},
   "outputs": [
    {
     "name": "stderr",
     "output_type": "stream",
     "text": [
      "100%|██████████| 100/100 [01:35<00:00,  1.04it/s]\n"
     ]
    },
    {
     "name": "stdout",
     "output_type": "stream",
     "text": [
      "=== AVERAGE ROUGE SCORES ===\n",
      "ROUGE-1:\n",
      "  r: 0.1802\n",
      "  p: 0.4054\n",
      "  f: 0.2312\n",
      "ROUGE-2:\n",
      "  r: 0.0482\n",
      "  p: 0.0835\n",
      "  f: 0.0547\n",
      "ROUGE-L:\n",
      "  r: 0.1711\n",
      "  p: 0.3852\n",
      "  f: 0.2198\n"
     ]
    },
    {
     "data": {
      "application/vnd.jupyter.widget-view+json": {
       "model_id": "67ab933fe97542698e31d3118358ae3a",
       "version_major": 2,
       "version_minor": 0
      },
      "text/plain": [
       "tokenizer_config.json:   0%|          | 0.00/25.0 [00:00<?, ?B/s]"
      ]
     },
     "metadata": {},
     "output_type": "display_data"
    },
    {
     "data": {
      "application/vnd.jupyter.widget-view+json": {
       "model_id": "e8516fceb88c4940ac3c510f3ceff34f",
       "version_major": 2,
       "version_minor": 0
      },
      "text/plain": [
       "config.json:   0%|          | 0.00/482 [00:00<?, ?B/s]"
      ]
     },
     "metadata": {},
     "output_type": "display_data"
    },
    {
     "data": {
      "application/vnd.jupyter.widget-view+json": {
       "model_id": "7d62ff2bc37b4c2aac51a7605ebbb0d4",
       "version_major": 2,
       "version_minor": 0
      },
      "text/plain": [
       "vocab.json:   0%|          | 0.00/899k [00:00<?, ?B/s]"
      ]
     },
     "metadata": {},
     "output_type": "display_data"
    },
    {
     "data": {
      "application/vnd.jupyter.widget-view+json": {
       "model_id": "cd6065a40c894ac0b09a9c9ae011f91f",
       "version_major": 2,
       "version_minor": 0
      },
      "text/plain": [
       "merges.txt:   0%|          | 0.00/456k [00:00<?, ?B/s]"
      ]
     },
     "metadata": {},
     "output_type": "display_data"
    },
    {
     "data": {
      "application/vnd.jupyter.widget-view+json": {
       "model_id": "cb62fae16a45429a9e92c2704f1ac1b8",
       "version_major": 2,
       "version_minor": 0
      },
      "text/plain": [
       "tokenizer.json:   0%|          | 0.00/1.36M [00:00<?, ?B/s]"
      ]
     },
     "metadata": {},
     "output_type": "display_data"
    },
    {
     "data": {
      "application/vnd.jupyter.widget-view+json": {
       "model_id": "4b6042a4c07f488eabe60b2c83a18eb0",
       "version_major": 2,
       "version_minor": 0
      },
      "text/plain": [
       "model.safetensors:   0%|          | 0.00/1.42G [00:00<?, ?B/s]"
      ]
     },
     "metadata": {},
     "output_type": "display_data"
    },
    {
     "name": "stderr",
     "output_type": "stream",
     "text": [
      "Some weights of RobertaModel were not initialized from the model checkpoint at roberta-large and are newly initialized: ['pooler.dense.bias', 'pooler.dense.weight']\n",
      "You should probably TRAIN this model on a down-stream task to be able to use it for predictions and inference.\n"
     ]
    },
    {
     "name": "stdout",
     "output_type": "stream",
     "text": [
      "calculating scores...\n",
      "computing bert embedding.\n"
     ]
    },
    {
     "data": {
      "application/vnd.jupyter.widget-view+json": {
       "model_id": "2544a0fa51394e68ab265ba92d3befd5",
       "version_major": 2,
       "version_minor": 0
      },
      "text/plain": [
       "  0%|          | 0/4 [00:00<?, ?it/s]"
      ]
     },
     "metadata": {},
     "output_type": "display_data"
    },
    {
     "name": "stdout",
     "output_type": "stream",
     "text": [
      "computing greedy matching.\n"
     ]
    },
    {
     "data": {
      "application/vnd.jupyter.widget-view+json": {
       "model_id": "5fc23869d67342af9a6845feed07e540",
       "version_major": 2,
       "version_minor": 0
      },
      "text/plain": [
       "  0%|          | 0/2 [00:00<?, ?it/s]"
      ]
     },
     "metadata": {},
     "output_type": "display_data"
    },
    {
     "name": "stdout",
     "output_type": "stream",
     "text": [
      "done in 9.60 seconds, 10.42 sentences/sec\n",
      "=== BERTScore Results ===\n",
      "Precision: 0.8311\n",
      "Recall:    0.8233\n",
      "F1 Score:  0.8268\n"
     ]
    }
   ],
   "source": [
    "from bert_score import score\n",
    "from rouge import Rouge\n",
    "from tqdm import tqdm \n",
    "\n",
    "rouge = Rouge()\n",
    "\n",
    "generated_texts = []\n",
    "reference_texts = []\n",
    "\n",
    "# Iterate through the dataset\n",
    "for example in tqdm(test_dataset):\n",
    "    generated_review = generate_review(example[\"ratings\"])\n",
    "    reference_review = example[\"review_text\"]\n",
    "\n",
    "    generated_texts.append(generated_review)\n",
    "    reference_texts.append(reference_review)\n",
    "\n",
    "# Compute average ROUGE scores over all examples\n",
    "scores = rouge.get_scores(generated_texts, reference_texts, avg=True)\n",
    "\n",
    "# Print nicely formatted scores\n",
    "print(\"=== AVERAGE ROUGE SCORES ===\")\n",
    "for metric, sub_scores in scores.items():\n",
    "    print(f\"{metric.upper()}:\")\n",
    "    for sub_metric, value in sub_scores.items():\n",
    "        print(f\"  {sub_metric}: {value:.4f}\")\n",
    "\n",
    "P, R, F1 = score(generated_texts, reference_texts, lang=\"en\", verbose=True)\n",
    "\n",
    "# Print average scores\n",
    "print(\"=== BERTScore Results ===\")\n",
    "print(f\"Precision: {P.mean().item():.4f}\")\n",
    "print(f\"Recall:    {R.mean().item():.4f}\")\n",
    "print(f\"F1 Score:  {F1.mean().item():.4f}\")"
   ]
  },
  {
   "cell_type": "code",
   "execution_count": 26,
   "id": "c36ce708",
   "metadata": {},
   "outputs": [
    {
     "name": "stdout",
     "output_type": "stream",
     "text": [
      "I've never been to a hotel before I went to the hotel. The hotel is a great value for the price. The staff are very friendly and helpful. The hotel is very clean and the room was very clean and the staff was very helpful. The hotel is very nice. The hotel is a great place to stay. The hotel is a great place to stay. The price is very reasonable. The room was very comfortable and the room was very comfortable. The staff were very helpful and helpful. The room was spacious. The room was very clean and clean. I'd rather stay there. I've had a great view of the city. The hotel is very nice. The location is very close to the hotel is a great value for money. The hotel is a great location. The location is a little bit of a little bit expensive. The hotel is very clean and the rooms are very comfortable. The staff is very friendly and helpful. The hotel is very clean. The hotel is very close to the city center. The room was very comfortable and comfortable. The room was clean and the room was very comfortable. The room was very clean. The room was very clean and the room was very comfortable. The staff were very friendly and the staff were very friendly and friendly. The room was very comfortable. The room was very clean and comfortable. The room was clean and comfortable. The room was a bit small but the room was very clean. The room was clean and the room was very nice and the room was very comfortable. The room was very comfortable. The room was very clean. The room was very clean. The room was a little small but very clean and clean. The room was very clean. The staff were very helpful and helpful. The room was very clean and clean. The location is very close to the center center. The room was very nice. The room was very clean and clean. The room was very close to the hotel. The room was very comfortable and the room was clean and the room was very comfortable. The room was very clean and comfortable. The hotel is very comfortable. The staff was very friendly and helpful. The room was very clean. The location is very close to the hotel. The location is very good. The room was very clean. The room was clean and clean. The room was very nice. The room was very comfortable. The room was very nice. The room was very comfortable. The room was very clean. The room\n"
     ]
    }
   ],
   "source": [
    "generated_review = generate_review(\"\"\"Input: Generate a hotel review based on the following ratings:\n",
    "- service: 1.0\n",
    "- cleanliness: 1.0\n",
    "- overall: 1.0\n",
    "- value: 1.0\n",
    "- sleep quality: 1.0\n",
    "Review: \n",
    "\"\"\")\n",
    "print(generated_review)"
   ]
  }
 ],
 "metadata": {
  "kernelspec": {
   "display_name": ".venv",
   "language": "python",
   "name": "python3"
  },
  "language_info": {
   "codemirror_mode": {
    "name": "ipython",
    "version": 3
   },
   "file_extension": ".py",
   "mimetype": "text/x-python",
   "name": "python",
   "nbconvert_exporter": "python",
   "pygments_lexer": "ipython3",
   "version": "3.12.3"
  }
 },
 "nbformat": 4,
 "nbformat_minor": 5
}
